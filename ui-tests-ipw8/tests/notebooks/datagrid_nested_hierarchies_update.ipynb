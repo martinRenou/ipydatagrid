{
 "cells": [
  {
   "cell_type": "code",
   "execution_count": null,
   "id": "af9f4e3d",
   "metadata": {},
   "outputs": [],
   "source": [
    "import ipydatagrid as g\n",
    "import pandas as pd\n",
    "import numpy as np\n",
    "\n",
    "np.random.seed(1)\n",
    "\n",
    "# Columns\n",
    "col_top_level = [\n",
    "    \"VeryLongValueFactors\",\n",
    "    \"VeryLongValueFactors\",\n",
    "    \"Even Longer Momentum Factors\",\n",
    "    \"Even Longer Momentum Factors\",\n",
    "]\n",
    "col_bottom_level = [\"Factor_A\", \"Factor_B\", \"Factor_C\", \"Factor_D\"]\n",
    "\n",
    "# Rows\n",
    "row_top_level = [\"Sector 1\", \"Sector 1\", \"Sector 2\", \"Sector 2\"]\n",
    "row_bottom_level = [\"Security A\", \"Security B\", \"Security C\", \"Security D\"]\n",
    "\n",
    "header_renderer = g.TextRenderer(\n",
    "    background_color=\"moccasin\",\n",
    "    text_color=\"navy\",\n",
    "    vertical_alignment=\"top\",\n",
    "    horizontal_alignment=\"center\",\n",
    ")\n",
    "\n",
    "default_renderer = g.TextRenderer(\n",
    "    text_color=g.VegaExpr(\"cell.value <= 0 ? 'purple' : 'green'\")\n",
    ")\n",
    "\n",
    "nested_df = pd.DataFrame(\n",
    "    np.random.randn(4, 4).round(4),\n",
    "    columns=pd.MultiIndex.from_arrays([col_top_level, col_bottom_level]),\n",
    "    index=pd.MultiIndex.from_arrays(\n",
    "        [row_top_level, row_bottom_level], names=(\"Sector\", \"Ticker\")\n",
    "    ),\n",
    ")\n",
    "\n",
    "nested_grid = g.DataGrid(\n",
    "    nested_df,\n",
    "    base_column_size=80,\n",
    "    base_column_header_size=35,\n",
    "    base_row_header_size=80,\n",
    "    layout={\"height\": \"180px\"},\n",
    "    header_renderer=header_renderer,\n",
    "    default_renderer=default_renderer,\n",
    ")\n",
    "\n",
    "nested_grid"
   ]
  },
  {
   "cell_type": "code",
   "execution_count": null,
   "id": "06e899d3",
   "metadata": {},
   "outputs": [],
   "source": [
    "# We can potentially improve the heuristics for this calculation\n",
    "nested_grid.auto_fit_columns = True"
   ]
  },
  {
   "cell_type": "code",
   "execution_count": null,
   "id": "39e364d7",
   "metadata": {},
   "outputs": [],
   "source": [
    "# This is not working as expected!\n",
    "# nested_grid.base_column_size = False\n",
    "nested_grid.base_column_size=79"
   ]
  },
  {
   "cell_type": "code",
   "execution_count": null,
   "id": "4a7840ec",
   "metadata": {},
   "outputs": [],
   "source": [
    "nested_grid.selection_mode = \"cell\"\n",
    "nested_grid.select(2, 3)"
   ]
  },
  {
   "cell_type": "code",
   "execution_count": null,
   "id": "a5320be4",
   "metadata": {},
   "outputs": [],
   "source": [
    "nested_grid.selections = []"
   ]
  },
  {
   "cell_type": "code",
   "execution_count": null,
   "id": "41cbad94",
   "metadata": {},
   "outputs": [],
   "source": [
    "new_df = pd.DataFrame(columns=nested_df.columns, index=nested_df.index, data=np.arange(-8,8,1).reshape(4,4))\n",
    "nested_grid.data = new_df"
   ]
  }
 ],
 "metadata": {
  "kernelspec": {
   "display_name": "Python 3 (ipykernel)",
   "language": "python",
   "name": "python3"
  },
  "language_info": {
   "codemirror_mode": {
    "name": "ipython",
    "version": 3
   },
   "file_extension": ".py",
   "mimetype": "text/x-python",
   "name": "python",
   "nbconvert_exporter": "python",
   "pygments_lexer": "ipython3",
   "version": "3.10.13"
  }
 },
 "nbformat": 4,
 "nbformat_minor": 5
}
